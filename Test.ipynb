{
 "cells": [
  {
   "cell_type": "code",
   "execution_count": 49,
   "metadata": {},
   "outputs": [],
   "source": [
    "import torch\n",
    "from pytorch_lightning.metrics import functional as FM\n",
    "import numpy as np\n",
    "from Models.All_Conv_4 import All_Conv_4\n",
    "from Datasets import cifar10, mnist\n",
    "import pytorch_lightning as pl\n",
    "from pytorch_lightning.loggers import TensorBoardLogger \n",
    "import os \n",
    "from torch.utils.tensorboard import SummaryWriter"
   ]
  },
  {
   "cell_type": "code",
   "execution_count": 50,
   "metadata": {},
   "outputs": [
    {
     "ename": "FileNotFoundError",
     "evalue": "[Errno 2] No such file or directory: 'experiments/experiment=set_1-model=All_Conv_4-data=CIFAR10-distance_limit=0.004--cluster_bits=16-iterations=7-type=med+std/final_model'",
     "output_type": "error",
     "traceback": [
      "\u001b[0;31m---------------------------------------------------------------------------\u001b[0m",
      "\u001b[0;31mFileNotFoundError\u001b[0m                         Traceback (most recent call last)",
      "\u001b[0;32m<ipython-input-50-396c12db5794>\u001b[0m in \u001b[0;36m<module>\u001b[0;34m\u001b[0m\n\u001b[0;32m----> 1\u001b[0;31m \u001b[0mmodel\u001b[0m \u001b[0;34m=\u001b[0m \u001b[0mtorch\u001b[0m\u001b[0;34m.\u001b[0m\u001b[0mload\u001b[0m\u001b[0;34m(\u001b[0m\u001b[0;34m'experiments/experiment=set_1-model=All_Conv_4-data=CIFAR10-distance_limit=0.004--cluster_bits=16-iterations=7-type=med+std/final_model'\u001b[0m\u001b[0;34m)\u001b[0m\u001b[0;34m\u001b[0m\u001b[0;34m\u001b[0m\u001b[0m\n\u001b[0m",
      "\u001b[0;32m~/anaconda3/lib/python3.7/site-packages/torch/serialization.py\u001b[0m in \u001b[0;36mload\u001b[0;34m(f, map_location, pickle_module, **pickle_load_args)\u001b[0m\n\u001b[1;32m    579\u001b[0m         \u001b[0mpickle_load_args\u001b[0m\u001b[0;34m[\u001b[0m\u001b[0;34m'encoding'\u001b[0m\u001b[0;34m]\u001b[0m \u001b[0;34m=\u001b[0m \u001b[0;34m'utf-8'\u001b[0m\u001b[0;34m\u001b[0m\u001b[0;34m\u001b[0m\u001b[0m\n\u001b[1;32m    580\u001b[0m \u001b[0;34m\u001b[0m\u001b[0m\n\u001b[0;32m--> 581\u001b[0;31m     \u001b[0;32mwith\u001b[0m \u001b[0m_open_file_like\u001b[0m\u001b[0;34m(\u001b[0m\u001b[0mf\u001b[0m\u001b[0;34m,\u001b[0m \u001b[0;34m'rb'\u001b[0m\u001b[0;34m)\u001b[0m \u001b[0;32mas\u001b[0m \u001b[0mopened_file\u001b[0m\u001b[0;34m:\u001b[0m\u001b[0;34m\u001b[0m\u001b[0;34m\u001b[0m\u001b[0m\n\u001b[0m\u001b[1;32m    582\u001b[0m         \u001b[0;32mif\u001b[0m \u001b[0m_is_zipfile\u001b[0m\u001b[0;34m(\u001b[0m\u001b[0mopened_file\u001b[0m\u001b[0;34m)\u001b[0m\u001b[0;34m:\u001b[0m\u001b[0;34m\u001b[0m\u001b[0;34m\u001b[0m\u001b[0m\n\u001b[1;32m    583\u001b[0m             \u001b[0;31m# The zipfile reader is going to advance the current file position.\u001b[0m\u001b[0;34m\u001b[0m\u001b[0;34m\u001b[0m\u001b[0;34m\u001b[0m\u001b[0m\n",
      "\u001b[0;32m~/anaconda3/lib/python3.7/site-packages/torch/serialization.py\u001b[0m in \u001b[0;36m_open_file_like\u001b[0;34m(name_or_buffer, mode)\u001b[0m\n\u001b[1;32m    228\u001b[0m \u001b[0;32mdef\u001b[0m \u001b[0m_open_file_like\u001b[0m\u001b[0;34m(\u001b[0m\u001b[0mname_or_buffer\u001b[0m\u001b[0;34m,\u001b[0m \u001b[0mmode\u001b[0m\u001b[0;34m)\u001b[0m\u001b[0;34m:\u001b[0m\u001b[0;34m\u001b[0m\u001b[0;34m\u001b[0m\u001b[0m\n\u001b[1;32m    229\u001b[0m     \u001b[0;32mif\u001b[0m \u001b[0m_is_path\u001b[0m\u001b[0;34m(\u001b[0m\u001b[0mname_or_buffer\u001b[0m\u001b[0;34m)\u001b[0m\u001b[0;34m:\u001b[0m\u001b[0;34m\u001b[0m\u001b[0;34m\u001b[0m\u001b[0m\n\u001b[0;32m--> 230\u001b[0;31m         \u001b[0;32mreturn\u001b[0m \u001b[0m_open_file\u001b[0m\u001b[0;34m(\u001b[0m\u001b[0mname_or_buffer\u001b[0m\u001b[0;34m,\u001b[0m \u001b[0mmode\u001b[0m\u001b[0;34m)\u001b[0m\u001b[0;34m\u001b[0m\u001b[0;34m\u001b[0m\u001b[0m\n\u001b[0m\u001b[1;32m    231\u001b[0m     \u001b[0;32melse\u001b[0m\u001b[0;34m:\u001b[0m\u001b[0;34m\u001b[0m\u001b[0;34m\u001b[0m\u001b[0m\n\u001b[1;32m    232\u001b[0m         \u001b[0;32mif\u001b[0m \u001b[0;34m'w'\u001b[0m \u001b[0;32min\u001b[0m \u001b[0mmode\u001b[0m\u001b[0;34m:\u001b[0m\u001b[0;34m\u001b[0m\u001b[0;34m\u001b[0m\u001b[0m\n",
      "\u001b[0;32m~/anaconda3/lib/python3.7/site-packages/torch/serialization.py\u001b[0m in \u001b[0;36m__init__\u001b[0;34m(self, name, mode)\u001b[0m\n\u001b[1;32m    209\u001b[0m \u001b[0;32mclass\u001b[0m \u001b[0m_open_file\u001b[0m\u001b[0;34m(\u001b[0m\u001b[0m_opener\u001b[0m\u001b[0;34m)\u001b[0m\u001b[0;34m:\u001b[0m\u001b[0;34m\u001b[0m\u001b[0;34m\u001b[0m\u001b[0m\n\u001b[1;32m    210\u001b[0m     \u001b[0;32mdef\u001b[0m \u001b[0m__init__\u001b[0m\u001b[0;34m(\u001b[0m\u001b[0mself\u001b[0m\u001b[0;34m,\u001b[0m \u001b[0mname\u001b[0m\u001b[0;34m,\u001b[0m \u001b[0mmode\u001b[0m\u001b[0;34m)\u001b[0m\u001b[0;34m:\u001b[0m\u001b[0;34m\u001b[0m\u001b[0;34m\u001b[0m\u001b[0m\n\u001b[0;32m--> 211\u001b[0;31m         \u001b[0msuper\u001b[0m\u001b[0;34m(\u001b[0m\u001b[0m_open_file\u001b[0m\u001b[0;34m,\u001b[0m \u001b[0mself\u001b[0m\u001b[0;34m)\u001b[0m\u001b[0;34m.\u001b[0m\u001b[0m__init__\u001b[0m\u001b[0;34m(\u001b[0m\u001b[0mopen\u001b[0m\u001b[0;34m(\u001b[0m\u001b[0mname\u001b[0m\u001b[0;34m,\u001b[0m \u001b[0mmode\u001b[0m\u001b[0;34m)\u001b[0m\u001b[0;34m)\u001b[0m\u001b[0;34m\u001b[0m\u001b[0;34m\u001b[0m\u001b[0m\n\u001b[0m\u001b[1;32m    212\u001b[0m \u001b[0;34m\u001b[0m\u001b[0m\n\u001b[1;32m    213\u001b[0m     \u001b[0;32mdef\u001b[0m \u001b[0m__exit__\u001b[0m\u001b[0;34m(\u001b[0m\u001b[0mself\u001b[0m\u001b[0;34m,\u001b[0m \u001b[0;34m*\u001b[0m\u001b[0margs\u001b[0m\u001b[0;34m)\u001b[0m\u001b[0;34m:\u001b[0m\u001b[0;34m\u001b[0m\u001b[0;34m\u001b[0m\u001b[0m\n",
      "\u001b[0;31mFileNotFoundError\u001b[0m: [Errno 2] No such file or directory: 'experiments/experiment=set_1-model=All_Conv_4-data=CIFAR10-distance_limit=0.004--cluster_bits=16-iterations=7-type=med+std/final_model'"
     ]
    }
   ],
   "source": [
    "model = torch.load('experiments/experiment=set_1-model=All_Conv_4-data=CIFAR10-distance_limit=0.004--cluster_bits=16-iterations=7-type=med+std/final_model')"
   ]
  },
  {
   "cell_type": "code",
   "execution_count": 51,
   "metadata": {},
   "outputs": [
    {
     "name": "stdout",
     "output_type": "stream",
     "text": [
      "[-0.14980602 -0.14161323 -0.13362849 -0.12560913 -0.11754748 -0.11031771\n",
      " -0.09252381 -0.08446624 -0.07640485 -0.06836463 -0.06051747 -0.04404263\n",
      " -0.03598506 -0.02791739 -0.0110823  -0.00479724  0.00296634  0.02159442\n",
      "  0.03600968  0.05401703  0.06201014  0.07008573  0.0928812   0.10969011\n",
      "  0.11586604  0.12390432  0.13197604]\n",
      "[-0.14980602 -0.11754748 -0.11031771 -0.09252381 -0.07640485 -0.06051747\n",
      " -0.04404263 -0.02791739 -0.00479724  0.00296634  0.02159442  0.03600968\n",
      "  0.05401703  0.06201014  0.07008573  0.0928812   0.13197604]\n",
      "[-0.14980602 -0.14161323 -0.13362849 -0.12560913 -0.11754748 -0.11031771\n",
      " -0.09252381 -0.08446624 -0.07640485 -0.06836463 -0.06051747 -0.04404263\n",
      " -0.03598506 -0.02791739 -0.0110823  -0.00479724  0.00296634  0.02159442\n",
      "  0.03600968  0.05401703  0.06201014  0.07008573  0.0928812   0.10969011\n",
      "  0.11586604  0.12390432  0.13197604]\n",
      "[-0.09252381 -0.07640485 -0.06051747 -0.04404263 -0.03598506 -0.02791739\n",
      " -0.0110823  -0.00479724  0.00296634  0.02159442  0.03600968  0.05401703\n",
      "  0.06201014  0.07008573  0.0928812   0.13197604]\n",
      "[-0.14980602 -0.14161323 -0.13362849 -0.12560913 -0.11754748 -0.11031771\n",
      " -0.09252381 -0.08446624 -0.07640485 -0.06836463 -0.06051747 -0.04404263\n",
      " -0.03598506 -0.02791739 -0.0110823  -0.00479724  0.00296634  0.02159442\n",
      "  0.03600968  0.05401703  0.06201014  0.07008573  0.0928812   0.10969011\n",
      "  0.11586604  0.12390432  0.13197604]\n",
      "[-0.14980602 -0.11754748 -0.11031771 -0.09252381 -0.08446624 -0.07640485\n",
      " -0.06836463 -0.06051747 -0.04404263 -0.03598506 -0.02791739 -0.00479724\n",
      "  0.00296634  0.02159442  0.03600968  0.05401703  0.06201014  0.07008573\n",
      "  0.0928812   0.10969011  0.11586604  0.13197604]\n",
      "[-0.14980602 -0.14161323 -0.13362849 -0.12560913 -0.11754748 -0.11031771\n",
      " -0.09252381 -0.08446624 -0.07640485 -0.06836463 -0.06051747 -0.04404263\n",
      " -0.03598506 -0.02791739 -0.0110823  -0.00479724  0.00296634  0.02159442\n",
      "  0.03600968  0.05401703  0.06201014  0.07008573  0.0928812   0.10969011\n",
      "  0.11586604  0.12390432  0.13197604]\n",
      "[-0.06836463 -0.04404263 -0.03598506 -0.02791739 -0.0110823  -0.00479724\n",
      "  0.00296634  0.02159442  0.03600968  0.05401703  0.06201014  0.07008573\n",
      "  0.0928812 ]\n",
      "[-0.14980602 -0.14161323 -0.13362849 -0.12560913 -0.11754748 -0.11031771\n",
      " -0.09252381 -0.08446624 -0.07640485 -0.06836463 -0.06051747 -0.04404263\n",
      " -0.03598506 -0.02791739 -0.0110823  -0.00479724  0.00296634  0.02159442\n",
      "  0.03600968  0.05401703  0.06201014  0.07008573  0.0928812   0.10969011\n",
      "  0.11586604  0.12390432  0.13197604]\n",
      "[-0.07640485 -0.06836463 -0.06051747 -0.04404263 -0.03598506 -0.02791739\n",
      " -0.0110823  -0.00479724  0.00296634  0.02159442  0.03600968  0.05401703\n",
      "  0.06201014  0.07008573]\n",
      "[-0.14980602 -0.14161323 -0.13362849 -0.12560913 -0.11754748 -0.11031771\n",
      " -0.09252381 -0.08446624 -0.07640485 -0.06836463 -0.06051747 -0.04404263\n",
      " -0.03598506 -0.02791739 -0.0110823  -0.00479724  0.00296634  0.02159442\n",
      "  0.03600968  0.05401703  0.06201014  0.07008573  0.0928812   0.10969011\n",
      "  0.11586604  0.12390432  0.13197604]\n",
      "[-0.14980602 -0.13362849 -0.11754748 -0.11031771 -0.09252381 -0.08446624\n",
      " -0.07640485 -0.06836463 -0.06051747 -0.04404263 -0.03598506 -0.02791739\n",
      " -0.0110823  -0.00479724  0.00296634  0.02159442  0.03600968  0.05401703\n",
      "  0.06201014  0.07008573  0.0928812   0.11586604  0.12390432  0.13197604]\n",
      "[-0.11031771 -0.09252381 -0.08446624 -0.07640485 -0.06836463 -0.06051747\n",
      " -0.04404263 -0.03598506 -0.02791739 -0.0110823  -0.00479724  0.00296634\n",
      "  0.02159442  0.03600968  0.05401703  0.06201014  0.07008573  0.0928812\n",
      "  0.10969011]\n",
      "[-0.14980602 -0.04404263 -0.03598506  0.00296634  0.02159442  0.03600968]\n"
     ]
    }
   ],
   "source": [
    "for x in model.named_parameters():\n",
    "    print(np.unique(x[1].cpu().detach().numpy()))"
   ]
  },
  {
   "cell_type": "code",
   "execution_count": 62,
   "metadata": {},
   "outputs": [],
   "source": [
    "\n",
    "model = All_Conv_4()\n",
    "model = model.load_from_checkpoint(checkpoint_path=\"f\")\n"
   ]
  },
  {
   "cell_type": "code",
   "execution_count": 63,
   "metadata": {},
   "outputs": [
    {
     "name": "stdout",
     "output_type": "stream",
     "text": [
      "(array([-0.08287498, -0.08277929, -0.08244465, ...,  0.07616235,\n",
      "        0.07616301,  0.07617537], dtype=float32), array([1, 1, 1, ..., 1, 1, 1]))\n"
     ]
    }
   ],
   "source": [
    "s_d = model.state_dict()\n",
    "print(np.unique(s_d['conv1.weight'].cpu().detach().numpy(), return_counts = True))"
   ]
  },
  {
   "cell_type": "code",
   "execution_count": 64,
   "metadata": {},
   "outputs": [
    {
     "name": "stdout",
     "output_type": "stream",
     "text": [
      "All_Conv_4(\n",
      "  (conv1): Conv2d(3, 64, kernel_size=(3, 3), stride=(1, 1))\n",
      "  (conv2): Conv2d(64, 64, kernel_size=(3, 3), stride=(1, 1))\n",
      "  (conv3): Conv2d(64, 128, kernel_size=(3, 3), stride=(1, 1))\n",
      "  (conv4): Conv2d(128, 128, kernel_size=(3, 3), stride=(1, 1))\n",
      "  (fc1): Linear(in_features=3200, out_features=256, bias=True)\n",
      "  (fc2): Linear(in_features=256, out_features=256, bias=True)\n",
      "  (final): Linear(in_features=256, out_features=10, bias=True)\n",
      "  (pool): MaxPool2d(kernel_size=2, stride=2, padding=0, dilation=1, ceil_mode=False)\n",
      ")\n"
     ]
    }
   ],
   "source": [
    "print(model)"
   ]
  },
  {
   "cell_type": "code",
   "execution_count": 65,
   "metadata": {},
   "outputs": [],
   "source": [
    "cifar = cifar10.CIFAR10DataModule()\n",
    "cifar.setup()"
   ]
  },
  {
   "cell_type": "code",
   "execution_count": 66,
   "metadata": {},
   "outputs": [],
   "source": [
    "test = cifar.test_dataloader()"
   ]
  },
  {
   "cell_type": "code",
   "execution_count": 61,
   "metadata": {},
   "outputs": [
    {
     "name": "stdout",
     "output_type": "stream",
     "text": [
      "[tensor(0.5938), tensor(0.7031), tensor(0.6250), tensor(0.5625), tensor(0.6719), tensor(0.6406), tensor(0.6406), tensor(0.5938), tensor(0.6250), tensor(0.7031), tensor(0.5781), tensor(0.6719), tensor(0.7031), tensor(0.6250), tensor(0.6875), tensor(0.7188), tensor(0.6406), tensor(0.6875), tensor(0.6875), tensor(0.6094), tensor(0.7031), tensor(0.5938), tensor(0.7500), tensor(0.7031), tensor(0.6562), tensor(0.6719), tensor(0.7031), tensor(0.6719), tensor(0.6719), tensor(0.8438), tensor(0.7031), tensor(0.6406), tensor(0.7500), tensor(0.6719), tensor(0.7188), tensor(0.5938), tensor(0.6250), tensor(0.6562), tensor(0.7344), tensor(0.6094), tensor(0.6719), tensor(0.7188), tensor(0.6875), tensor(0.6875), tensor(0.7656), tensor(0.6719), tensor(0.6250), tensor(0.5938), tensor(0.7500), tensor(0.6250), tensor(0.6562), tensor(0.7656), tensor(0.7188), tensor(0.6406), tensor(0.5938), tensor(0.7500), tensor(0.6875), tensor(0.6094), tensor(0.6719), tensor(0.6875), tensor(0.7500), tensor(0.5781), tensor(0.5469), tensor(0.7500), tensor(0.6719), tensor(0.7031), tensor(0.6875), tensor(0.6875), tensor(0.7344), tensor(0.6250), tensor(0.6875), tensor(0.6094), tensor(0.6875), tensor(0.7188), tensor(0.7188), tensor(0.7500), tensor(0.5625), tensor(0.5938), tensor(0.7500), tensor(0.6406), tensor(0.7031), tensor(0.5469), tensor(0.6719), tensor(0.6094), tensor(0.6562), tensor(0.7500), tensor(0.5625), tensor(0.6719), tensor(0.6250), tensor(0.7344), tensor(0.7031), tensor(0.5781), tensor(0.6094), tensor(0.7188), tensor(0.7188), tensor(0.6406), tensor(0.5469), tensor(0.5938), tensor(0.7031), tensor(0.6094), tensor(0.6406), tensor(0.6094), tensor(0.6562), tensor(0.7031), tensor(0.6562), tensor(0.6094), tensor(0.7188), tensor(0.5312), tensor(0.5781), tensor(0.6094), tensor(0.6250), tensor(0.6562), tensor(0.7656), tensor(0.5625), tensor(0.7812), tensor(0.6250), tensor(0.6094), tensor(0.6562), tensor(0.5938), tensor(0.6406), tensor(0.7188), tensor(0.7031), tensor(0.6719), tensor(0.6875), tensor(0.6562), tensor(0.6406), tensor(0.7656), tensor(0.7188), tensor(0.7344), tensor(0.5938), tensor(0.6250), tensor(0.6875), tensor(0.5625), tensor(0.6094), tensor(0.6562), tensor(0.5938), tensor(0.6094), tensor(0.7344), tensor(0.6406), tensor(0.5625), tensor(0.7344), tensor(0.6406), tensor(0.7969), tensor(0.7969), tensor(0.5469), tensor(0.5781), tensor(0.5938), tensor(0.6094), tensor(0.6719), tensor(0.7500), tensor(0.7031), tensor(0.7656), tensor(0.6094), tensor(0.5625), tensor(0.6250), tensor(0.5781), tensor(0.6875)]\n",
      "0.6616242\n"
     ]
    }
   ],
   "source": [
    "acc = []\n",
    "for x,y in test:\n",
    "    pred = model(x)\n",
    "    pred = torch.argmax(pred, dim = 1)\n",
    "    a = FM.accuracy(y, pred)\n",
    "    acc.append(a)\n",
    "print(acc)\n",
    "print(np.mean(acc))\n"
   ]
  },
  {
   "cell_type": "code",
   "execution_count": null,
   "metadata": {},
   "outputs": [],
   "source": []
  },
  {
   "cell_type": "code",
   "execution_count": null,
   "metadata": {},
   "outputs": [],
   "source": []
  }
 ],
 "metadata": {
  "kernelspec": {
   "display_name": "Python 3",
   "language": "python",
   "name": "python3"
  },
  "language_info": {
   "codemirror_mode": {
    "name": "ipython",
    "version": 3
   },
   "file_extension": ".py",
   "mimetype": "text/x-python",
   "name": "python",
   "nbconvert_exporter": "python",
   "pygments_lexer": "ipython3",
   "version": "3.7.6"
  }
 },
 "nbformat": 4,
 "nbformat_minor": 4
}
